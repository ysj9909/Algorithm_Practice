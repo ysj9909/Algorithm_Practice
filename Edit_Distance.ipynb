{
  "nbformat": 4,
  "nbformat_minor": 0,
  "metadata": {
    "colab": {
      "name": "Edit_Distance.ipynb",
      "provenance": [],
      "authorship_tag": "ABX9TyMrsX7/EfgT+mFlkY/nWDiz"
    },
    "kernelspec": {
      "name": "python3",
      "display_name": "Python 3"
    },
    "language_info": {
      "name": "python"
    }
  },
  "cells": [
    {
      "cell_type": "code",
      "execution_count": 2,
      "metadata": {
        "colab": {
          "base_uri": "https://localhost:8080/"
        },
        "id": "M9TFdKLLEoXP",
        "outputId": "6278d0dd-8f1e-459a-9b6e-c7caae6705ed"
      },
      "outputs": [
        {
          "output_type": "stream",
          "name": "stdout",
          "text": [
            "최소 편집 거리:  3\n",
            "r 를  n 로 변경\n",
            "t 를 삭제\n",
            "a 를 삭제\n"
          ]
        }
      ],
      "source": [
        "def edit_dist(char1, char2):\n",
        "    # char1 -> char2 로의 편집\n",
        "    len1 = len(char1)\n",
        "    len2 = len(char2)\n",
        "\n",
        "    # 편집 거리를 계산하기 위한 배열 초기화\n",
        "    dist = [[0 for _ in range(len1 + 1)] for _ in range(len2 + 1)]\n",
        "    for i in range(1, len2 + 1):\n",
        "        dist[i][0] = i\n",
        "    for i in range(1, len1 + 1):\n",
        "        dist[0][i] = i\n",
        "    \n",
        "    # ---------------------------\n",
        "    # 최소 거리를 구하는 알고리즘\n",
        "    # ---------------------------\n",
        "    for i in range(1, len2 + 1):\n",
        "        for j in range(1, len1 + 1):\n",
        "            if char1[j - 1] == char2[i - 1]:   # 문자가 같을 때\n",
        "                dist[i][j] = dist[i - 1][j - 1]\n",
        "            else:   # 문자가 다르면 3개의 이전 편집 포인트에서 한 번의 편집을 추가\n",
        "                dist[i][j] = min(dist[i - 1][j - 1], dist[i][j - 1], dist[i - 1][j]) + 1\n",
        "    \n",
        "    print(\"최소 편집 거리: \", dist[-1][-1])\n",
        "    # -------------------------------\n",
        "    # 과정을 역으로 추적하는 알고리즘\n",
        "    # -------------------------------\n",
        "    a, b = len2, len1\n",
        "    while not ((a == 0) and (b == 0)):\n",
        "        s = min(dist[a - 1][b], dist[a][b - 1], dist[a - 1][b - 1])\n",
        "        if s == dist[a][b]:   # 편집 x\n",
        "            a -= 1\n",
        "            b -= 1\n",
        "        else:\n",
        "            if s == dist[a][b - 1]:\n",
        "                print(char1[b-1], \"를 삭제\")\n",
        "                b -= 1\n",
        "            elif s == dist[a - 1][b - 1]:\n",
        "                print(char1[b-1], \"를 \", char2[a-1], \"로 변경\")\n",
        "                a -= 1\n",
        "                b -= 1\n",
        "            else:\n",
        "                print(char2[a-1], \"를 추가\")\n",
        "                a -= 1\n",
        "\n",
        "edit_dist(\"saturday\", \"sunday\")\n"
      ]
    },
    {
      "cell_type": "code",
      "source": [
        ""
      ],
      "metadata": {
        "id": "HUgP8liBI5-y"
      },
      "execution_count": null,
      "outputs": []
    }
  ]
}