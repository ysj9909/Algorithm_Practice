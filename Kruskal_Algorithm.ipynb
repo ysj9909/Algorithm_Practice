{
  "nbformat": 4,
  "nbformat_minor": 0,
  "metadata": {
    "colab": {
      "name": "Kruskal_Algorithm.ipynb",
      "provenance": [],
      "collapsed_sections": [],
      "authorship_tag": "ABX9TyMhs/oTykiDtG90rPivFVkq"
    },
    "kernelspec": {
      "name": "python3",
      "display_name": "Python 3"
    },
    "language_info": {
      "name": "python"
    }
  },
  "cells": [
    {
      "cell_type": "code",
      "execution_count": 3,
      "metadata": {
        "colab": {
          "base_uri": "https://localhost:8080/"
        },
        "id": "6Zg_kX-Nvknv",
        "outputId": "91f1dbe2-ff37-4db5-ae64-a1f9c565aebf"
      },
      "outputs": [
        {
          "output_type": "stream",
          "name": "stdout",
          "text": [
            "42\n",
            "[(1, 3), (2, 3), (4, 6), (0, 2), (3, 4), (2, 5)]\n"
          ]
        }
      ],
      "source": [
        "# Union & Find 함수에 쓰일 부모 노드 찾는 함수\n",
        "def get_parent(arr, x):\n",
        "    if arr[x] == x:\n",
        "        return x\n",
        "    return get_parent(arr, arr[x])\n",
        "\n",
        "# 부모 노드를 병합\n",
        "def union_parent(arr, a, b):\n",
        "    a = get_parent(arr, a)\n",
        "    b = get_parent(arr, b)\n",
        "    if a < b:\n",
        "        arr[b] = a\n",
        "    else:\n",
        "        arr[a] = b\n",
        "\n",
        "\n",
        "# 같은 부모를 가지는지 확인\n",
        "def find(arr, a, b):\n",
        "    a = get_parent(arr, a)\n",
        "    b = get_parent(arr, b)\n",
        "    if a == b:\n",
        "        return True\n",
        "    else:\n",
        "        return False\n",
        "\n",
        "graph = {\n",
        "    'vertices': [0, 1, 2, 3, 4, 5, 6],\n",
        "    'edges': [\n",
        "        (8, 0, 1),\n",
        "        (5, 0, 2),\n",
        "        (10, 1, 2),\n",
        "        (2, 1, 3),\n",
        "        (18, 1, 4),\n",
        "        (3, 2, 3),\n",
        "        (16, 2, 5),\n",
        "        (12, 3, 4),\n",
        "        (14, 3, 6),\n",
        "        (30, 3, 5),\n",
        "        (4, 4, 6),\n",
        "        (26, 5, 6),\n",
        "    ]\n",
        "}\n",
        "\n",
        "\n",
        "\n",
        "cycle_check_list = [i for i in range(12)]\n",
        "minimum_spanning_tree = []\n",
        "\n",
        "sum = 0\n",
        "\n",
        "edges = graph['edges']\n",
        "edges.sort()\n",
        "\n",
        "# 간선 연결\n",
        "for edge in edges:\n",
        "    weight, vert1, vert2 = edge\n",
        "    if not find(cycle_check_list, vert1, vert2):\n",
        "        union_parent(cycle_check_list, vert1, vert2)\n",
        "        minimum_spanning_tree.append((vert1, vert2))\n",
        "        sum += weight\n",
        "\n",
        "print(sum)\n",
        "print(minimum_spanning_tree)"
      ]
    },
    {
      "cell_type": "code",
      "source": [
        ""
      ],
      "metadata": {
        "id": "5O0iUjgV2e7l"
      },
      "execution_count": null,
      "outputs": []
    }
  ]
}