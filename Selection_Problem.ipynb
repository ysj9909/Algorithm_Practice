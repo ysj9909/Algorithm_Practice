{
  "nbformat": 4,
  "nbformat_minor": 0,
  "metadata": {
    "colab": {
      "name": "Selection_Problem.ipynb",
      "provenance": [],
      "authorship_tag": "ABX9TyP/C/XGTAlJrvYQujdYLwbT"
    },
    "kernelspec": {
      "name": "python3",
      "display_name": "Python 3"
    },
    "language_info": {
      "name": "python"
    }
  },
  "cells": [
    {
      "cell_type": "code",
      "execution_count": 24,
      "metadata": {
        "colab": {
          "base_uri": "https://localhost:8080/"
        },
        "id": "QyKoOZPDOvyW",
        "outputId": "74f7aa47-94e4-477a-efb6-19bcd57e1025"
      },
      "outputs": [
        {
          "output_type": "stream",
          "name": "stdout",
          "text": [
            "10\n"
          ]
        }
      ],
      "source": [
        "num_data = 12\n",
        "array = [6, 3, 11, 9, 12, 2, 8, 15, 18, 10, 7, 14]\n",
        "\n",
        "\n",
        "def Selection(array, start_idx, end_idx, k):\n",
        "    if start_idx >= end_idx:\n",
        "        return array[start_idx]\n",
        "    \n",
        "    pivot = start_idx\n",
        "    i = start_idx + 1\n",
        "    j = end_idx\n",
        "\n",
        "    while i <= j:\n",
        "        while (i <= end_idx) and (array[i] <= array[pivot]):\n",
        "            i += 1\n",
        "        while (j >= start_idx + 1) and (array[j] >= array[pivot]):\n",
        "            j -= 1\n",
        "        \n",
        "        if i > j: # 엇갈린 상태 피벗값과 j값을 교체하여 피벗값에 대한 정렬 확정\n",
        "            array[pivot], array[j] = array[j], array[pivot]\n",
        "        else:    # 엇갈리지 않았을 때는 i, j값을 서로 교환\n",
        "            array[i], array[j] = array[j], array[i]\n",
        "    \n",
        "    s = j - start_idx  \n",
        "    if k == (s + 1):\n",
        "        return array[j]\n",
        "    elif k > s:\n",
        "        return Selection(array, j + 1, end_idx, k - s - 1)\n",
        "    else:\n",
        "        return Selection(array, start_idx, j - 1, k)\n",
        "\n",
        "print(Selection(array, 0, 11, 7))"
      ]
    },
    {
      "cell_type": "code",
      "source": [
        "for i in range(1, num_data + 1):\n",
        "    print(Selection(array, 0, 11, i))"
      ],
      "metadata": {
        "colab": {
          "base_uri": "https://localhost:8080/"
        },
        "id": "xltxX-qzT6RB",
        "outputId": "33a0d3e5-87d3-46f0-ba4f-ff05d197d492"
      },
      "execution_count": 26,
      "outputs": [
        {
          "output_type": "stream",
          "name": "stdout",
          "text": [
            "2\n",
            "3\n",
            "6\n",
            "7\n",
            "8\n",
            "9\n",
            "10\n",
            "11\n",
            "12\n",
            "14\n",
            "15\n",
            "18\n"
          ]
        }
      ]
    },
    {
      "cell_type": "code",
      "source": [
        ""
      ],
      "metadata": {
        "id": "1eSGJ_JtY6jO"
      },
      "execution_count": null,
      "outputs": []
    }
  ]
}