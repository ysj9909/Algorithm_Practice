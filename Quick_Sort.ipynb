{
  "nbformat": 4,
  "nbformat_minor": 0,
  "metadata": {
    "colab": {
      "name": "Quick_Sort.ipynb",
      "provenance": [],
      "collapsed_sections": [],
      "authorship_tag": "ABX9TyMg5WsLMTT5ZVHPuov5+kZl"
    },
    "kernelspec": {
      "name": "python3",
      "display_name": "Python 3"
    },
    "language_info": {
      "name": "python"
    }
  },
  "cells": [
    {
      "cell_type": "markdown",
      "source": [
        "# 퀵 정렬 연습\n",
        "\n",
        "* 피벗 값을 start index로 할 때 퀵정렬 구현 연습\n",
        "* 퀵 정렬은 피벗을 어떻게 정하는지에 따라 계산 시간이 많이 달라질 수 있다.\n",
        "* 퀵 정렬의 평균 시간 복잡도는 O(nlogn)이다.\n",
        "* 하지만 피벗으로 항상 가장 작은 값이 선택되는 경우는 O(n^2)의 시간 복잡도를 갖는다.\n",
        "* 합병 정렬은 항상 O(nlogn)의 시간 복잡도를 보장할 수 있지만 퀵 정렬의 경우 평균 시간 복잡도를 보장할 수는 없다.\n"
      ],
      "metadata": {
        "id": "Hro27fpL8gbR"
      }
    },
    {
      "cell_type": "code",
      "execution_count": 6,
      "metadata": {
        "colab": {
          "base_uri": "https://localhost:8080/"
        },
        "id": "XwibWSF53Rv2",
        "outputId": "8d6074c2-a106-4632-caed-0755a55b83ec"
      },
      "outputs": [
        {
          "output_type": "stream",
          "name": "stdout",
          "text": [
            "첫 인덱스를 피벗으로 지정했을 때 걸리는 시간:  6.031990051269531e-05\n",
            "[2, 3, 6, 7, 8, 9, 10, 11, 12, 14, 15, 18]\n",
            "가운데 인덱스를 피벗으로 지정했을 때 걸리는 시간:  8.702278137207031e-05\n",
            "[2, 6, 3, 7, 8, 9, 10, 11, 12, 14, 15, 18]\n",
            "Median-of-Medians를 피벗으로 지정했을 때 걸리는 시간:  6.747245788574219e-05\n",
            "[2, 3, 6, 7, 8, 9, 10, 11, 12, 14, 15, 18]\n"
          ]
        }
      ],
      "source": [
        "import time\n",
        "\n",
        "num_data = 12\n",
        "array = [6, 3, 11, 9, 12, 2, 8, 15, 18, 10, 7, 14]\n",
        "\n",
        "\n",
        "def QuickSort(array, start_idx, end_idx , mode = \"start\"):\n",
        "    if start_idx >= end_idx:\n",
        "        return\n",
        "    \n",
        "    if mode == \"start\":\n",
        "        pivot = start_idx # pivot은 첫 번째 원소로 한다.\n",
        "    elif mode == \"middle\":\n",
        "        pivot = (start_idx + end_idx) // 2\n",
        "        array[pivot], array[start_idx] = array[start_idx], array[pivot]\n",
        "    elif mode == \"median_of_three\":\n",
        "        middle_idx = (start_idx + end_idx) // 2\n",
        "        if (array[start_idx] < array[middle_idx] < array[end_idx]) or \\\n",
        "        (array[end_idx] < array[middle_idx] < array[start_idx]):\n",
        "            pivot = middle_idx\n",
        "        \n",
        "        elif (array[start_idx] < array[end_idx] < array[middle_idx]) or \\\n",
        "        (array[middle_idx] < array[end_idx] < array[start_idx]):\n",
        "            pivot = end_idx\n",
        "        \n",
        "        else:\n",
        "            pivot = start_idx\n",
        "        array[pivot], array[start_idx] = array[start_idx], array[pivot]\n",
        "\n",
        "    i = start_idx + 1\n",
        "    j = end_idx\n",
        "\n",
        "    while i <= j:\n",
        "        while (i <= end_idx) and (array[i] <= array[pivot]):\n",
        "            i += 1\n",
        "        \n",
        "        while (j >= start_idx + 1) and (array[j] >= array[pivot]):\n",
        "            j -= 1\n",
        "        if i > j: # 엇갈린 상태 피벗값과 교체하여 피봇값과 j값을 교체하여 피봇값 정렬 확정\n",
        "            array[j], array[pivot] = array[pivot], array[j]\n",
        "        else: # 엇갈리지 않았을 때는 i, j값들을 서로 교환\n",
        "            array[i], array[j] = array[j], array[i]\n",
        "        \n",
        "    \n",
        "    QuickSort(array, start_idx, j - 1)\n",
        "    QuickSort(array, j + 1, end_idx)\n",
        "\n",
        "s = time.time()\n",
        "QuickSort(array, 0, num_data -1)\n",
        "e = time.time()\n",
        "print(\"첫 인덱스를 피벗으로 지정했을 때 걸리는 시간: \",  e -s)\n",
        "print(array)\n",
        "\n",
        "\n",
        "array = [6, 3, 11, 9, 12, 2, 8, 15, 18, 10, 7, 14]\n",
        "s = time.time()\n",
        "QuickSort(array, 0, num_data - 1, mode = \"middle\")\n",
        "e = time.time()\n",
        "print(\"가운데 인덱스를 피벗으로 지정했을 때 걸리는 시간: \",  e -s)\n",
        "print(array)\n",
        "\n",
        "\n",
        "array = [6, 3, 11, 9, 12, 2, 8, 15, 18, 10, 7, 14]\n",
        "s = time.time()\n",
        "QuickSort(array, 0, num_data - 1, mode = \"median_of_three\")\n",
        "e = time.time()\n",
        "print(\"Median-of-Medians를 피벗으로 지정했을 때 걸리는 시간: \",  e -s)\n",
        "print(array)"
      ]
    },
    {
      "cell_type": "code",
      "source": [
        ""
      ],
      "metadata": {
        "id": "5LoN0LfcMSGF"
      },
      "execution_count": null,
      "outputs": []
    }
  ]
}