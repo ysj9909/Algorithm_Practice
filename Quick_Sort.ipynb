{
  "nbformat": 4,
  "nbformat_minor": 0,
  "metadata": {
    "colab": {
      "name": "Quick_Sort.ipynb",
      "provenance": [],
      "authorship_tag": "ABX9TyOFxwJkM2ydWXCtPPF2jmka"
    },
    "kernelspec": {
      "name": "python3",
      "display_name": "Python 3"
    },
    "language_info": {
      "name": "python"
    }
  },
  "cells": [
    {
      "cell_type": "markdown",
      "source": [
        "# 퀵 정렬 연습\n",
        "\n",
        "* 피벗 값을 start index로 할 때 퀵정렬 구현 연습\n",
        "* 퀵 정렬은 피벗을 어떻게 정하는지에 따라 계산 시간이 많이 달라질 수 있다.\n",
        "* 퀵 정렬의 평균 시간 복잡도는 O(nlogn)이다.\n",
        "* 하지만 피벗으로 항상 가장 작은 값이 선택되는 경우는 O(n^2)의 시간 복잡도를 갖는다.\n",
        "* 합병 정렬은 항상 O(nlogn)의 시간 복잡도를 보장할 수 있지만 퀵 정렬의 경우 평균 시간 복잡도를 보장할 수는 없다.\n"
      ],
      "metadata": {
        "id": "Hro27fpL8gbR"
      }
    },
    {
      "cell_type": "code",
      "execution_count": 2,
      "metadata": {
        "colab": {
          "base_uri": "https://localhost:8080/"
        },
        "id": "XwibWSF53Rv2",
        "outputId": "f4a56235-d60e-48a7-f5be-875c93f6083c"
      },
      "outputs": [
        {
          "output_type": "stream",
          "name": "stdout",
          "text": [
            "[2, 3, 6, 7, 8, 9, 10, 11, 12, 14, 15, 18]\n"
          ]
        }
      ],
      "source": [
        "num_data = 12\n",
        "array = [6, 3, 11, 9, 12, 2, 8, 15, 18, 10, 7, 14]\n",
        "\n",
        "\n",
        "def QuickSort(array, start_idx, end_idx):\n",
        "    if start_idx >= end_idx:\n",
        "        return\n",
        "    \n",
        "\n",
        "    pivot = start_idx # pivot은 첫 번째 원소로 한다.\n",
        "    i = start_idx + 1\n",
        "    j = end_idx\n",
        "\n",
        "    while i <= j:\n",
        "        while (i <= end_idx) and (array[i] <= array[pivot]):\n",
        "            i += 1\n",
        "        \n",
        "        while (j >= start_idx + 1) and (array[j] >= array[pivot]):\n",
        "            j -= 1\n",
        "        if i > j: # 엇갈린 상태 피벗값과 교체하여 피봇값과 j값을 교체하여 피봇값 정렬 확정\n",
        "            array[j], array[pivot] = array[pivot], array[j]\n",
        "        else: # 엇갈리지 않았을 때는 i, j값들을 서로 교환\n",
        "            array[i], array[j] = array[j], array[i]\n",
        "        \n",
        "    \n",
        "    QuickSort(array, start_idx, j - 1)\n",
        "    QuickSort(array, j + 1, end_idx)\n",
        "\n",
        "QuickSort(array, 0, num_data -1)\n",
        "print(array)\n",
        "\n"
      ]
    }
  ]
}